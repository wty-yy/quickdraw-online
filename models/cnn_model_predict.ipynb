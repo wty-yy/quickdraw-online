{
 "cells": [
  {
   "cell_type": "code",
   "execution_count": 1,
   "id": "87ce6ec8",
   "metadata": {},
   "outputs": [
    {
     "name": "stderr",
     "output_type": "stream",
     "text": [
      "2023-07-14 23:44:20.843134: I tensorflow/tsl/cuda/cudart_stub.cc:28] Could not find cuda drivers on your machine, GPU will not be used.\n",
      "2023-07-14 23:44:20.885103: I tensorflow/tsl/cuda/cudart_stub.cc:28] Could not find cuda drivers on your machine, GPU will not be used.\n",
      "2023-07-14 23:44:20.885685: I tensorflow/core/platform/cpu_feature_guard.cc:182] This TensorFlow binary is optimized to use available CPU instructions in performance-critical operations.\n",
      "To enable the following instructions: AVX2 FMA, in other operations, rebuild TensorFlow with the appropriate compiler flags.\n",
      "2023-07-14 23:44:21.488256: W tensorflow/compiler/tf2tensorrt/utils/py_utils.cc:38] TF-TRT Warning: Could not find TensorRT\n"
     ]
    }
   ],
   "source": [
    "import numpy as np\n",
    "from PIL import Image\n",
    "import tensorflow as tf\n",
    "from pathlib import Path\n",
    "import matplotlib.pyplot as plt\n",
    "plt.rcParams['font.family'] = ['serif', 'SimSun']\n",
    "keras = tf.keras\n",
    "layers = keras.layers"
   ]
  },
  {
   "cell_type": "code",
   "execution_count": 2,
   "id": "701e2e75",
   "metadata": {},
   "outputs": [
    {
     "name": "stdout",
     "output_type": "stream",
     "text": [
      "权重读取地址 /home/wty/Coding/xjtu_quick_draw/models/cnn_model/training/cp-29+0031.ckpt\n"
     ]
    }
   ],
   "source": [
    "data_augmentation = tf.keras.Sequential([\n",
    "    layers.RandomFlip('horizontal'),\n",
    "    layers.RandomRotation(  # 随机旋转(-30,30)度\n",
    "        factor=(-1/24,1/24),\n",
    "        fill_mode='constant'\n",
    "    ),\n",
    "    layers.RandomTranslation(  # 随机平移\n",
    "        height_factor=(-0.1,0.1),\n",
    "        width_factor=(-0.1,0.1),\n",
    "        fill_mode='constant'\n",
    "    )\n",
    "], name='augmentation')\n",
    "\n",
    "def build_model(inputs_shape=(28,28,1)):\n",
    "    inputs = layers.Input(shape=inputs_shape, name='img')\n",
    "    x = data_augmentation(inputs)\n",
    "    # 卷积块1\n",
    "    x = layers.Conv2D(128, kernel_size=3, padding='same', activation='relu', name='Conv1')(x)\n",
    "    x = layers.Conv2D(128, kernel_size=3, padding='same', activation='relu', name='Conv2')(x)\n",
    "    # x = layers.Conv2D(128, kernel_size=3, padding='same', activation='relu')(x)\n",
    "    x = layers.MaxPool2D(pool_size=2, strides=2, name='Pool1')(x)\n",
    "    # 卷积块2\n",
    "    x = layers.Conv2D(128, kernel_size=3, padding='same', activation='relu', name='Conv3')(x)\n",
    "    x = layers.Conv2D(128, kernel_size=3, padding='same', activation='relu', name='Conv4')(x)\n",
    "    # x = layers.Conv2D(128, kernel_size=3, padding='same', activation='relu')(x)\n",
    "    x = layers.MaxPool2D(pool_size=2, strides=2, name='Pool2')(x)\n",
    "    x = layers.Flatten(name='Flatten')(x)\n",
    "    # 全连接1\n",
    "    x = layers.Dense(1024, activation='relu', name='Dense1')(x)\n",
    "    x = layers.Dropout(0.5, name='Dropout1')(x)\n",
    "    # 全连接2\n",
    "    x = layers.Dense(1024, activation='relu', name='Dense2')(x)\n",
    "    x = layers.Dropout(0.5, name='Dropout2')(x)\n",
    "    # 输出\n",
    "    outputs = layers.Dense(210, activation='softmax', name='Outputs')(x)\n",
    "    return keras.Model(inputs, outputs)\n",
    "model = build_model()\n",
    "\n",
    "#model.compile(optimizer=keras.optimizers.Adam(learning_rate=1e-4), loss=keras.losses.CategoricalCrossentropy(from_logits=False),\n",
    "#              metrics=[keras.metrics.TopKCategoricalAccuracy(1, name=\"Top1\"), keras.metrics.TopKCategoricalAccuracy(5, name=\"Top5\")])\n",
    "\n",
    "checkpoint_dirpath = Path.cwd().joinpath(\"cnn_model/training\")\n",
    "lastest_cp_path = tf.train.latest_checkpoint(checkpoint_dirpath)\n",
    "model.load_weights(lastest_cp_path)\n",
    "print(\"权重读取地址\", lastest_cp_path)"
   ]
  },
  {
   "cell_type": "code",
   "execution_count": 3,
   "id": "77cc9dfa",
   "metadata": {
    "scrolled": true
   },
   "outputs": [
    {
     "name": "stdout",
     "output_type": "stream",
     "text": [
      "/home/wty/Coding/xjtu_quick_draw/models/customed_dataset\n"
     ]
    }
   ],
   "source": [
    "PATH_CUSTOMS = Path.cwd().joinpath(\"customed_dataset\")\n",
    "PATH_CUSTOMS.mkdir(parents=True, exist_ok=True)\n",
    "print(PATH_CUSTOMS)"
   ]
  },
  {
   "cell_type": "code",
   "execution_count": 4,
   "id": "1de223ea",
   "metadata": {},
   "outputs": [],
   "source": [
    "def plot_img(ax, img, title=\"\"):\n",
    "    ax.imshow(img, cmap='gray')\n",
    "    ax.axis('off')\n",
    "    ax.set_title(title)"
   ]
  },
  {
   "cell_type": "code",
   "execution_count": 5,
   "id": "cceb2e66",
   "metadata": {},
   "outputs": [],
   "source": [
    "import json\n",
    "\n",
    "PATH_ARCHIVES = Path.cwd().parent.joinpath(\"archives\")  # 文档存放路径\n",
    "if not PATH_ARCHIVES.exists():\n",
    "    raise BaseException(f\"文件夹{PATH_ARCHIVES}不存在\")\n",
    "\n",
    "with open(PATH_ARCHIVES.joinpath(\"eng_to_chn.json\"), \"r\", encoding=\"utf-8\") as file:  # 标签英文转中文字典\n",
    "    eng_to_chn = json.load(file)\n",
    "\n",
    "with open(PATH_ARCHIVES.joinpath(\"target_labels.txt\"), \"r\") as file:  # 读取筛选标签\n",
    "    target_labels = file.read().split('\\n')[:-1]\n",
    "target_labels = np.array(target_labels)"
   ]
  },
  {
   "cell_type": "code",
   "execution_count": 10,
   "id": "1bb1b17d",
   "metadata": {
    "scrolled": false
   },
   "outputs": [
    {
     "name": "stdout",
     "output_type": "stream",
     "text": [
      "/home/wty/Coding/xjtu_quick_draw/models/customed_dataset\n",
      "2\n"
     ]
    },
    {
     "data": {
      "image/png": "[encoded data removed]",
      "text/plain": [
       "<Figure size 1300x300 with 5 Axes>"
      ]
     },
     "metadata": {},
     "output_type": "display_data"
    },
    {
     "name": "stdout",
     "output_type": "stream",
     "text": [
      "1/1 [==============================] - 0s 33ms/step\n",
      "img1:  [('smiley face 笑脸', 61.37), ('face 脸', 35.48), ('potato 土豆', 2.76), ('pond 池塘', 0.35), ('watermelon 西瓜', 0.03)]\n",
      "img1:  [('bird 鸟', 49.45), ('dragon 龙', 46.34), ('duck 鸭子', 1.27), ('rain 雨', 0.76), ('angel 天使', 0.72)]\n"
     ]
    }
   ],
   "source": [
    "X = []\n",
    "resize = layers.Resizing(28, 28)\n",
    "print(PATH_CUSTOMS)\n",
    "N = len(list(PATH_CUSTOMS.iterdir()))\n",
    "print(N)\n",
    "row = (N+4)//5\n",
    "fig, axs = plt.subplots(row,5,figsize=(13,3*row))\n",
    "if N <= 5: axs = axs.reshape(1,-1)\n",
    "for idx, f in enumerate(PATH_CUSTOMS.iterdir()):\n",
    "    img = np.array(Image.open(f).convert('L'))\n",
    "    img = np.expand_dims(img, axis=-1)\n",
    "    img = 1. - resize(img) / 255.\n",
    "    X.append(img)\n",
    "    plot_img(axs[idx//5, idx%5], img, title=f\"img{idx+1}\")\n",
    "plt.show()\n",
    "X = np.array(X)\n",
    "\n",
    "pred = model.predict(X)\n",
    "pred_summary = []\n",
    "for i in range(N):\n",
    "    top5_idxs = np.argsort(pred[i])[::-1][:5]\n",
    "    top5_labels = target_labels[top5_idxs]\n",
    "    top5_summary = [(x+' '+eng_to_chn[x], np.round(pred*100,2)) for x, pred in zip(top5_labels, pred[i][top5_idxs])]\n",
    "    print(\"img1: \", top5_summary)\n",
    "    pred_summary.append(top5_summary)\n",
    "# pred_idx = np.argmax(pred, axis=-1)\n",
    "# pred_label = [x+' '+eng_to_chn[x] for x in target_labels[pred_idx]]\n",
    "# print(\"预测结果\", pred_label)"
   ]
  },
  {
   "cell_type": "code",
   "execution_count": 7,
   "id": "72d78a0e",
   "metadata": {},
   "outputs": [
    {
     "ename": "IndexError",
     "evalue": "index 5 is out of bounds for axis 0 with size 1",
     "output_type": "error",
     "traceback": [
      "\u001b[0;31m---------------------------------------------------------------------------\u001b[0m",
      "\u001b[0;31mIndexError\u001b[0m                                Traceback (most recent call last)",
      "Cell \u001b[0;32mIn[7], line 2\u001b[0m\n\u001b[1;32m      1\u001b[0m i \u001b[38;5;241m=\u001b[39m \u001b[38;5;241m5\u001b[39m\n\u001b[0;32m----> 2\u001b[0m top5_idx \u001b[38;5;241m=\u001b[39m np\u001b[38;5;241m.\u001b[39margsort(pred[i])[::\u001b[38;5;241m-\u001b[39m\u001b[38;5;241m1\u001b[39m][:\u001b[38;5;241m5\u001b[39m]\n\u001b[1;32m      3\u001b[0m \u001b[38;5;28mprint\u001b[39m(np\u001b[38;5;241m.\u001b[39mround(pred[i][top5_idx], \u001b[38;5;241m3\u001b[39m))\n\u001b[1;32m      4\u001b[0m target_labels[np\u001b[38;5;241m.\u001b[39margsort(pred[i])[::\u001b[38;5;241m-\u001b[39m\u001b[38;5;241m1\u001b[39m][:\u001b[38;5;241m5\u001b[39m]]\n",
      "\u001b[0;31mIndexError\u001b[0m: index 5 is out of bounds for axis 0 with size 1"
     ]
    }
   ],
   "source": [
    "i = 5\n",
    "top5_idx = np.argsort(pred[i])[::-1][:5]\n",
    "print(np.round(pred[i][top5_idx], 3))\n",
    "target_labels[np.argsort(pred[i])[::-1][:5]]"
   ]
  },
  {
   "cell_type": "code",
   "execution_count": null,
   "id": "8115a04a",
   "metadata": {},
   "outputs": [],
   "source": [
    "print(np.round(pred[i][np.argsort(pred[i])[::-1][:10]], 3))"
   ]
  },
  {
   "cell_type": "code",
   "execution_count": null,
   "id": "6d7d1e08",
   "metadata": {},
   "outputs": [],
   "source": []
  }
 ],
 "metadata": {
  "kernelspec": {
   "display_name": "Python 3 (ipykernel)",
   "language": "python",
   "name": "python3"
  },
  "language_info": {
   "codemirror_mode": {
    "name": "ipython",
    "version": 3
   },
   "file_extension": ".py",
   "mimetype": "text/x-python",
   "name": "python",
   "nbconvert_exporter": "python",
   "pygments_lexer": "ipython3",
   "version": "3.11.4"
  }
 },
 "nbformat": 4,
 "nbformat_minor": 5
}
